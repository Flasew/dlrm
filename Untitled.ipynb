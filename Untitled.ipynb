{
 "cells": [
  {
   "cell_type": "code",
   "execution_count": 13,
   "id": "1c76187c",
   "metadata": {},
   "outputs": [],
   "source": [
    "import os\n",
    "os.chdir(\"../dlrm\")"
   ]
  },
  {
   "cell_type": "code",
   "execution_count": 2,
   "id": "f4b95235",
   "metadata": {},
   "outputs": [],
   "source": [
    "def get_itmes(bsz, md):\n",
    "    itimes = []\n",
    "    with open(f\"result_{md}_{bsz}.res\") as f:    \n",
    "        for l in f.readlines():\n",
    "            if l.startswith(\"Finished\"):\n",
    "    #             print(l.split(\",\")[-2].split(\" \"))\n",
    "                itimes.append(float(l.split(\",\")[-2].strip().split(\" \")[0]))\n",
    "    ait = sum(itimes)/len(itimes)\n",
    "    return ait, itimes"
   ]
  },
  {
   "cell_type": "code",
   "execution_count": 14,
   "id": "3de2b396",
   "metadata": {},
   "outputs": [
    {
     "name": "stdout",
     "output_type": "stream",
     "text": [
      "80.93387499999996,99.72137500000004,99.78162499999999,112.5507187500001,179.19128124999992,316.7380000000002,"
     ]
    }
   ],
   "source": [
    "sm_avgits = {}\n",
    "sm_itslist = {}\n",
    "for b in [32, 64, 128, 256, 512, 1024]:\n",
    "    ait, itimes = get_itmes(b, \"smallft100\")\n",
    "    sm_avgits[b] = ait\n",
    "    sm_itslist[b] = itimes\n",
    "    print(ait, end=\",\")"
   ]
  },
  {
   "cell_type": "code",
   "execution_count": 15,
   "id": "d1a06e81",
   "metadata": {},
   "outputs": [
    {
     "name": "stdout",
     "output_type": "stream",
     "text": [
      "410.22025,425.44065625,415.44925,430.27281250000044,559.672125,580.2513124999995,"
     ]
    }
   ],
   "source": [
    "bg_avgits = {}\n",
    "bg_itslist = {}\n",
    "for b in [32, 64, 128, 256, 512, 1024]:\n",
    "    ait, itimes = get_itmes(b, \"bigft100\")\n",
    "    bg_avgits[b] = ait\n",
    "    bg_itslist[b] = itimes\n",
    "    print(ait, end=\",\")"
   ]
  },
  {
   "cell_type": "code",
   "execution_count": 16,
   "id": "55bd86c7",
   "metadata": {},
   "outputs": [
    {
     "name": "stdout",
     "output_type": "stream",
     "text": [
      "161.99653125,183.87321875,205.86931250000006,299.0989687499998,464.66840625,"
     ]
    }
   ],
   "source": [
    "st_avgits = {}\n",
    "st_itslist = {}\n",
    "for b in [32, 64, 128, 256, 512]:\n",
    "    ait, itimes = get_itmes(b, \"stupidft100\")\n",
    "    st_avgits[b] = ait\n",
    "    st_itslist[b] = itimes\n",
    "    print(ait, end=\",\")"
   ]
  },
  {
   "cell_type": "code",
   "execution_count": 21,
   "id": "de3d7a51",
   "metadata": {},
   "outputs": [
    {
     "data": {
      "text/plain": [
       "{32: 60.19475000000001,\n",
       " 64: 88.2615,\n",
       " 128: 108.84778124999994,\n",
       " 256: 179.93556250000006,\n",
       " 512: 294.62981249999996,\n",
       " 1024: 469.9356250000004}"
      ]
     },
     "execution_count": 21,
     "metadata": {},
     "output_type": "execute_result"
    }
   ],
   "source": [
    "sm_avgits"
   ]
  },
  {
   "cell_type": "code",
   "execution_count": 23,
   "id": "3e601e76",
   "metadata": {},
   "outputs": [
    {
     "data": {
      "text/plain": [
       "{32: 319.39590624999994,\n",
       " 64: 321.56087500000024,\n",
       " 128: 319.2384374999999,\n",
       " 256: 365.4680937500001,\n",
       " 512: 468.5595937500001,\n",
       " 1024: 733.9817187499996}"
      ]
     },
     "execution_count": 23,
     "metadata": {},
     "output_type": "execute_result"
    }
   ],
   "source": [
    "bg_avgits"
   ]
  },
  {
   "cell_type": "code",
   "execution_count": 24,
   "id": "5be44869",
   "metadata": {},
   "outputs": [
    {
     "data": {
      "text/plain": [
       "{32: 137.95790625000006,\n",
       " 64: 182.33065624999995,\n",
       " 128: 263.1092500000001,\n",
       " 256: 388.9259687499999,\n",
       " 512: 674.9630000000003}"
      ]
     },
     "execution_count": 24,
     "metadata": {},
     "output_type": "execute_result"
    }
   ],
   "source": [
    "st_avgits"
   ]
  },
  {
   "cell_type": "code",
   "execution_count": null,
   "id": "5e125605",
   "metadata": {},
   "outputs": [],
   "source": []
  }
 ],
 "metadata": {
  "kernelspec": {
   "display_name": "Python 3 (ipykernel)",
   "language": "python",
   "name": "python3"
  },
  "language_info": {
   "codemirror_mode": {
    "name": "ipython",
    "version": 3
   },
   "file_extension": ".py",
   "mimetype": "text/x-python",
   "name": "python",
   "nbconvert_exporter": "python",
   "pygments_lexer": "ipython3",
   "version": "3.10.2"
  }
 },
 "nbformat": 4,
 "nbformat_minor": 5
}
